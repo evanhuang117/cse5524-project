{
 "cells": [
  {
   "cell_type": "code",
   "execution_count": null,
   "metadata": {},
   "outputs": [],
   "source": [
    "import cv2\n",
    "import matplotlib.pyplot as plt\n",
    "from skimage.color import rgb2gray\n",
    "import numpy as np"
   ]
  },
  {
   "cell_type": "code",
   "execution_count": null,
   "metadata": {
    "collapsed": false,
    "pycharm": {
     "name": "#%%\n"
    }
   },
   "outputs": [],
   "source": [
    "grayIm = cv2.imread('buckeyes_gray.bmp')\n",
    "plt.imshow(grayIm, cmap='gray')\n",
    "cv2.imwrite('buckeyes_gray.jpg', grayIm)"
   ]
  },
  {
   "cell_type": "code",
   "execution_count": null,
   "metadata": {
    "collapsed": false,
    "pycharm": {
     "name": "#%%\n"
    }
   },
   "outputs": [],
   "source": [
    "rgbIm = cv2.imread('buckeyes_rgb.bmp')\n",
    "plt.imshow(rgbIm)\n",
    "cv2.imwrite('buckeyes_rgb.jpg', rgbIm)"
   ]
  },
  {
   "cell_type": "code",
   "execution_count": null,
   "metadata": {
    "collapsed": false,
    "pycharm": {
     "name": "#%%\n"
    }
   },
   "outputs": [],
   "source": [
    "grayIm = rgb2gray(rgbIm)\n",
    "plt.imshow(grayIm, cmap='gray')"
   ]
  },
  {
   "cell_type": "code",
   "execution_count": null,
   "metadata": {
    "collapsed": false,
    "pycharm": {
     "name": "#%%\n"
    }
   },
   "outputs": [],
   "source": [
    "zBlock = np.zeros((10,10))\n",
    "oBlock = np.ones((10,10))*255\n",
    "pattern = [[zBlock, oBlock],\n",
    "           [oBlock, zBlock]]\n",
    "checkerIm = np.tile(pattern, (5, 5))\n",
    "plt.imshow(checkerIm)\n",
    "cv2.imwrite('checkerIm.bmp', checkerIm)\n",
    "Im = cv2.imread('checkerIm.bmp')\n",
    "plt.imshow(Im, cmap='gray')"
   ]
  }
 ],
 "metadata": {
  "interpreter": {
   "hash": "b0e4c6a7f7297d1ba396280117006addd5e3b0d51e85a956f02244d6244c4913"
  },
  "kernelspec": {
   "display_name": "Python 3.9.9 64-bit ('venv': venv)",
   "language": "python",
   "name": "python3"
  },
  "language_info": {
   "codemirror_mode": {
    "name": "ipython",
    "version": 3
   },
   "file_extension": ".py",
   "mimetype": "text/x-python",
   "name": "python",
   "nbconvert_exporter": "python",
   "pygments_lexer": "ipython3",
   "version": "3.9.10"
  },
  "orig_nbformat": 4
 },
 "nbformat": 4,
 "nbformat_minor": 2
}
