{
 "cells": [
  {
   "cell_type": "code",
   "execution_count": 3,
   "metadata": {},
   "outputs": [
    {
     "name": "stdout",
     "output_type": "stream",
     "text": [
      "The autoreload extension is already loaded. To reload it, use:\n",
      "  %reload_ext autoreload\n"
     ]
    },
    {
     "ename": "RuntimeError",
     "evalue": "",
     "output_type": "error",
     "traceback": [
      "\u001b[1;31m---------------------------------------------------------------------------\u001b[0m",
      "\u001b[1;31mAssertionError\u001b[0m                            Traceback (most recent call last)",
      "File \u001b[1;32m~\\AppData\\Local\\Programs\\Python\\Python310\\lib\\site-packages\\skvideo\\io\\ffmpeg.py:271\u001b[0m, in \u001b[0;36mFFmpegReader._read_frame_data\u001b[1;34m(self)\u001b[0m\n\u001b[0;32m    <a href='file:///c%3A/Users/willd/AppData/Local/Programs/Python/Python310/lib/site-packages/skvideo/io/ffmpeg.py?line=269'>270</a>\u001b[0m     arr \u001b[39m=\u001b[39m np\u001b[39m.\u001b[39mfromstring(\u001b[39mself\u001b[39m\u001b[39m.\u001b[39m_proc\u001b[39m.\u001b[39mstdout\u001b[39m.\u001b[39mread(framesize), dtype\u001b[39m=\u001b[39mnp\u001b[39m.\u001b[39muint8)\n\u001b[1;32m--> <a href='file:///c%3A/Users/willd/AppData/Local/Programs/Python/Python310/lib/site-packages/skvideo/io/ffmpeg.py?line=270'>271</a>\u001b[0m     \u001b[39massert\u001b[39;00m \u001b[39mlen\u001b[39m(arr) \u001b[39m==\u001b[39m framesize\n\u001b[0;32m    <a href='file:///c%3A/Users/willd/AppData/Local/Programs/Python/Python310/lib/site-packages/skvideo/io/ffmpeg.py?line=271'>272</a>\u001b[0m \u001b[39mexcept\u001b[39;00m \u001b[39mException\u001b[39;00m \u001b[39mas\u001b[39;00m err:\n",
      "\u001b[1;31mAssertionError\u001b[0m: ",
      "\nDuring handling of the above exception, another exception occurred:\n",
      "\u001b[1;31mRuntimeError\u001b[0m                              Traceback (most recent call last)",
      "\u001b[1;32mc:\\Users\\willd\\Desktop\\Spring 2022\\Computer Vision\\finalProject\\cse5524-project\\mspaint2.0\\tracker\\driver.ipynb Cell 1'\u001b[0m in \u001b[0;36m<cell line: 13>\u001b[1;34m()\u001b[0m\n\u001b[0;32m      <a href='vscode-notebook-cell:/c%3A/Users/willd/Desktop/Spring%202022/Computer%20Vision/finalProject/cse5524-project/mspaint2.0/tracker/driver.ipynb#ch0000000?line=8'>9</a>\u001b[0m get_ipython()\u001b[39m.\u001b[39mrun_line_magic(\u001b[39m'\u001b[39m\u001b[39mautoreload\u001b[39m\u001b[39m'\u001b[39m, \u001b[39m'\u001b[39m\u001b[39m2\u001b[39m\u001b[39m'\u001b[39m)\n\u001b[0;32m     <a href='vscode-notebook-cell:/c%3A/Users/willd/Desktop/Spring%202022/Computer%20Vision/finalProject/cse5524-project/mspaint2.0/tracker/driver.ipynb#ch0000000?line=11'>12</a>\u001b[0m skvideo\u001b[39m.\u001b[39msetFFmpegPath(\u001b[39m'\u001b[39m\u001b[39mC:/ffmpeg\u001b[39m\u001b[39m'\u001b[39m)\n\u001b[1;32m---> <a href='vscode-notebook-cell:/c%3A/Users/willd/Desktop/Spring%202022/Computer%20Vision/finalProject/cse5524-project/mspaint2.0/tracker/driver.ipynb#ch0000000?line=12'>13</a>\u001b[0m x \u001b[39m=\u001b[39m skvideo\u001b[39m.\u001b[39;49mio\u001b[39m.\u001b[39;49mvread(\u001b[39m'\u001b[39;49m\u001b[39m../../data/up_move_right.mp4\u001b[39;49m\u001b[39m'\u001b[39;49m)\n\u001b[0;32m     <a href='vscode-notebook-cell:/c%3A/Users/willd/Desktop/Spring%202022/Computer%20Vision/finalProject/cse5524-project/mspaint2.0/tracker/driver.ipynb#ch0000000?line=13'>14</a>\u001b[0m video \u001b[39m=\u001b[39m np\u001b[39m.\u001b[39msqueeze(skvideo\u001b[39m.\u001b[39mutils\u001b[39m.\u001b[39mrgb2gray(x)\u001b[39m/\u001b[39m\u001b[39m255\u001b[39m)\n\u001b[0;32m     <a href='vscode-notebook-cell:/c%3A/Users/willd/Desktop/Spring%202022/Computer%20Vision/finalProject/cse5524-project/mspaint2.0/tracker/driver.ipynb#ch0000000?line=16'>17</a>\u001b[0m \u001b[39mprint\u001b[39m(video\u001b[39m.\u001b[39mshape)\n",
      "File \u001b[1;32m~\\AppData\\Local\\Programs\\Python\\Python310\\lib\\site-packages\\skvideo\\io\\io.py:148\u001b[0m, in \u001b[0;36mvread\u001b[1;34m(fname, height, width, num_frames, as_grey, inputdict, outputdict, backend, verbosity)\u001b[0m\n\u001b[0;32m    <a href='file:///c%3A/Users/willd/AppData/Local/Programs/Python/Python310/lib/site-packages/skvideo/io/io.py?line=144'>145</a>\u001b[0m T, M, N, C \u001b[39m=\u001b[39m reader\u001b[39m.\u001b[39mgetShape()\n\u001b[0;32m    <a href='file:///c%3A/Users/willd/AppData/Local/Programs/Python/Python310/lib/site-packages/skvideo/io/io.py?line=146'>147</a>\u001b[0m videodata \u001b[39m=\u001b[39m np\u001b[39m.\u001b[39mzeros((T, M, N, C), dtype\u001b[39m=\u001b[39mnp\u001b[39m.\u001b[39muint8)\n\u001b[1;32m--> <a href='file:///c%3A/Users/willd/AppData/Local/Programs/Python/Python310/lib/site-packages/skvideo/io/io.py?line=147'>148</a>\u001b[0m \u001b[39mfor\u001b[39;00m idx, frame \u001b[39min\u001b[39;00m \u001b[39menumerate\u001b[39m(reader\u001b[39m.\u001b[39mnextFrame()):\n\u001b[0;32m    <a href='file:///c%3A/Users/willd/AppData/Local/Programs/Python/Python310/lib/site-packages/skvideo/io/io.py?line=148'>149</a>\u001b[0m     videodata[idx, :, :, :] \u001b[39m=\u001b[39m frame\n\u001b[0;32m    <a href='file:///c%3A/Users/willd/AppData/Local/Programs/Python/Python310/lib/site-packages/skvideo/io/io.py?line=150'>151</a>\u001b[0m \u001b[39mif\u001b[39;00m as_grey: \n",
      "File \u001b[1;32m~\\AppData\\Local\\Programs\\Python\\Python310\\lib\\site-packages\\skvideo\\io\\ffmpeg.py:297\u001b[0m, in \u001b[0;36mFFmpegReader.nextFrame\u001b[1;34m(self)\u001b[0m\n\u001b[0;32m    <a href='file:///c%3A/Users/willd/AppData/Local/Programs/Python/Python310/lib/site-packages/skvideo/io/ffmpeg.py?line=289'>290</a>\u001b[0m \u001b[39m\"\"\"Yields frames using a generator \u001b[39;00m\n\u001b[0;32m    <a href='file:///c%3A/Users/willd/AppData/Local/Programs/Python/Python310/lib/site-packages/skvideo/io/ffmpeg.py?line=290'>291</a>\u001b[0m \u001b[39m\u001b[39;00m\n\u001b[0;32m    <a href='file:///c%3A/Users/willd/AppData/Local/Programs/Python/Python310/lib/site-packages/skvideo/io/ffmpeg.py?line=291'>292</a>\u001b[0m \u001b[39mReturns T ndarrays of size (M, N, C), where T is number of frames, \u001b[39;00m\n\u001b[0;32m    <a href='file:///c%3A/Users/willd/AppData/Local/Programs/Python/Python310/lib/site-packages/skvideo/io/ffmpeg.py?line=292'>293</a>\u001b[0m \u001b[39mM is height, N is width, and C is number of channels per pixel.\u001b[39;00m\n\u001b[0;32m    <a href='file:///c%3A/Users/willd/AppData/Local/Programs/Python/Python310/lib/site-packages/skvideo/io/ffmpeg.py?line=293'>294</a>\u001b[0m \n\u001b[0;32m    <a href='file:///c%3A/Users/willd/AppData/Local/Programs/Python/Python310/lib/site-packages/skvideo/io/ffmpeg.py?line=294'>295</a>\u001b[0m \u001b[39m\"\"\"\u001b[39;00m\n\u001b[0;32m    <a href='file:///c%3A/Users/willd/AppData/Local/Programs/Python/Python310/lib/site-packages/skvideo/io/ffmpeg.py?line=295'>296</a>\u001b[0m \u001b[39mfor\u001b[39;00m i \u001b[39min\u001b[39;00m \u001b[39mrange\u001b[39m(\u001b[39mself\u001b[39m\u001b[39m.\u001b[39minputframenum):\n\u001b[1;32m--> <a href='file:///c%3A/Users/willd/AppData/Local/Programs/Python/Python310/lib/site-packages/skvideo/io/ffmpeg.py?line=296'>297</a>\u001b[0m     \u001b[39myield\u001b[39;00m \u001b[39mself\u001b[39;49m\u001b[39m.\u001b[39;49m_readFrame()\n",
      "File \u001b[1;32m~\\AppData\\Local\\Programs\\Python\\Python310\\lib\\site-packages\\skvideo\\io\\ffmpeg.py:281\u001b[0m, in \u001b[0;36mFFmpegReader._readFrame\u001b[1;34m(self)\u001b[0m\n\u001b[0;32m    <a href='file:///c%3A/Users/willd/AppData/Local/Programs/Python/Python310/lib/site-packages/skvideo/io/ffmpeg.py?line=277'>278</a>\u001b[0m \u001b[39mdef\u001b[39;00m \u001b[39m_readFrame\u001b[39m(\u001b[39mself\u001b[39m):\n\u001b[0;32m    <a href='file:///c%3A/Users/willd/AppData/Local/Programs/Python/Python310/lib/site-packages/skvideo/io/ffmpeg.py?line=278'>279</a>\u001b[0m     \u001b[39m# Read and convert to numpy array\u001b[39;00m\n\u001b[0;32m    <a href='file:///c%3A/Users/willd/AppData/Local/Programs/Python/Python310/lib/site-packages/skvideo/io/ffmpeg.py?line=279'>280</a>\u001b[0m     \u001b[39m# t0 = time.time()\u001b[39;00m\n\u001b[1;32m--> <a href='file:///c%3A/Users/willd/AppData/Local/Programs/Python/Python310/lib/site-packages/skvideo/io/ffmpeg.py?line=280'>281</a>\u001b[0m     s \u001b[39m=\u001b[39m \u001b[39mself\u001b[39;49m\u001b[39m.\u001b[39;49m_read_frame_data()\n\u001b[0;32m    <a href='file:///c%3A/Users/willd/AppData/Local/Programs/Python/Python310/lib/site-packages/skvideo/io/ffmpeg.py?line=281'>282</a>\u001b[0m     result \u001b[39m=\u001b[39m np\u001b[39m.\u001b[39mfromstring(s, dtype\u001b[39m=\u001b[39m\u001b[39m'\u001b[39m\u001b[39muint8\u001b[39m\u001b[39m'\u001b[39m)\n\u001b[0;32m    <a href='file:///c%3A/Users/willd/AppData/Local/Programs/Python/Python310/lib/site-packages/skvideo/io/ffmpeg.py?line=283'>284</a>\u001b[0m     result \u001b[39m=\u001b[39m result\u001b[39m.\u001b[39mreshape((\u001b[39mself\u001b[39m\u001b[39m.\u001b[39moutputheight, \u001b[39mself\u001b[39m\u001b[39m.\u001b[39moutputwidth, \u001b[39mself\u001b[39m\u001b[39m.\u001b[39moutputdepth))\n",
      "File \u001b[1;32m~\\AppData\\Local\\Programs\\Python\\Python310\\lib\\site-packages\\skvideo\\io\\ffmpeg.py:275\u001b[0m, in \u001b[0;36mFFmpegReader._read_frame_data\u001b[1;34m(self)\u001b[0m\n\u001b[0;32m    <a href='file:///c%3A/Users/willd/AppData/Local/Programs/Python/Python310/lib/site-packages/skvideo/io/ffmpeg.py?line=272'>273</a>\u001b[0m     \u001b[39mself\u001b[39m\u001b[39m.\u001b[39m_terminate()\n\u001b[0;32m    <a href='file:///c%3A/Users/willd/AppData/Local/Programs/Python/Python310/lib/site-packages/skvideo/io/ffmpeg.py?line=273'>274</a>\u001b[0m     err1 \u001b[39m=\u001b[39m \u001b[39mstr\u001b[39m(err)\n\u001b[1;32m--> <a href='file:///c%3A/Users/willd/AppData/Local/Programs/Python/Python310/lib/site-packages/skvideo/io/ffmpeg.py?line=274'>275</a>\u001b[0m     \u001b[39mraise\u001b[39;00m \u001b[39mRuntimeError\u001b[39;00m(\u001b[39m\"\u001b[39m\u001b[39m%s\u001b[39;00m\u001b[39m\"\u001b[39m \u001b[39m%\u001b[39m (err1,))\n\u001b[0;32m    <a href='file:///c%3A/Users/willd/AppData/Local/Programs/Python/Python310/lib/site-packages/skvideo/io/ffmpeg.py?line=275'>276</a>\u001b[0m \u001b[39mreturn\u001b[39;00m arr\n",
      "\u001b[1;31mRuntimeError\u001b[0m: "
     ]
    }
   ],
   "source": [
    "import skvideo.io\n",
    "import matplotlib.pyplot as plt\n",
    "from tracker import Tracker\n",
    "from IPython import display\n",
    "import time\n",
    "from matplotlib import animation\n",
    "import numpy as np\n",
    "%load_ext autoreload\n",
    "%autoreload 2\n",
    "\n",
    "\n",
    "skvideo.setFFmpegPath('C:/ffmpeg')\n",
    "x = skvideo.io.vread('../../data/angle_left_move_right.mp4')\n",
    "video = np.squeeze(skvideo.utils.rgb2gray(x)/255)\n",
    "\n",
    "\n",
    "print(video.shape)\n",
    "\n",
    "vectors = [t for t in Tracker(video, threshold=0.1, region_size=15)]"
   ]
  },
  {
   "cell_type": "code",
   "execution_count": null,
   "metadata": {},
   "outputs": [],
   "source": [
    "%%capture profile_results\n",
    "import cProfile\n",
    "import pandas as pd\n",
    "\n",
    "cProfile.run('[t for t in Tracker(video)]')\n",
    "## Parse the stdout text and split it into a table\n",
    "data=[]\n",
    "started=False\n",
    "\n",
    "for l in profile_results.stdout.split(\"\\n\"):\n",
    "    if not started:\n",
    "        if l==\"   ncalls  tottime  percall  cumtime  percall filename:lineno(function)\":\n",
    "            started=True\n",
    "            data.append(l)\n",
    "    else:\n",
    "        data.append(l)\n",
    "content=[]\n",
    "for l in data:\n",
    "    fs = l.find(\" \",8)\n",
    "    content.append(tuple([l[0:fs] , l[fs:fs+9], l[fs+9:fs+18], l[fs+18:fs+27], l[fs+27:fs+36], l[fs+36:]]))\n",
    "prof_df = pd.DataFrame(content[1:], columns=content[0])"
   ]
  },
  {
   "cell_type": "code",
   "execution_count": 3,
   "metadata": {},
   "outputs": [
    {
     "data": {
      "image/png": "[encoded data removed]",
      "text/plain": [
       "<Figure size 432x288 with 1 Axes>"
      ]
     },
     "metadata": {
      "needs_background": "light"
     },
     "output_type": "display_data"
    }
   ],
   "source": [
    "for i, t in enumerate(vectors):\n",
    "    plt.gca().clear()\n",
    "    plt.imshow(video[i])\n",
    "    plt.quiver(t[:,1], t[:,0], t[:,3]*10, t[:,2]*10, color='red', scale_units='xy', scale=1, angles='xy' )\n",
    "    #plt.scatter(t[:,1],t[:,0], s=1, color='r')\n",
    "    display.display(plt.gcf())\n",
    "    display.clear_output(wait=True)\n",
    "    time.sleep(0.01)"
   ]
  },
  {
   "cell_type": "code",
   "execution_count": null,
   "metadata": {},
   "outputs": [],
   "source": [
    "figsize=(10,10)\n",
    "fig, ax = plt.subplots(figsize=figsize)\n",
    "img = ax.imshow(video[0])\n",
    "print(vectors[0][:,0])\n",
    "def animate(frame_no, img, vectors, ax):\n",
    "    img.set_data(video[frame_no])\n",
    "    quiv = ax.quiver(vectors[frame_no][:,1], vectors[frame_no][:,0], vectors[frame_no][:,2], vectors[frame_no][:,3], color='red', scale_units='xy', scale=1, angles='xy' )\n",
    "    return [img, quiv]\n",
    "ani = animation.FuncAnimation(fig, animate, range(len(vectors)), interval=50, blit=True, fargs=(img, vectors, ax))\n",
    "mywriter = animation.FFMpegWriter(fps = 20,extra_args=['-threads', '30'])\n",
    "ani.save(\"test.mp4\",writer=mywriter)"
   ]
  }
 ],
 "metadata": {
  "interpreter": {
   "hash": "592a83d04235a2e445aa50b1a56076491b03455943e9b49f132cf8ffb52d68aa"
  },
  "kernelspec": {
   "display_name": "Python 3.10.2 ('cse5524-project')",
   "language": "python",
   "name": "python3"
  },
  "language_info": {
   "codemirror_mode": {
    "name": "ipython",
    "version": 3
   },
   "file_extension": ".py",
   "mimetype": "text/x-python",
   "name": "python",
   "nbconvert_exporter": "python",
   "pygments_lexer": "ipython3",
   "version": "3.10.4"
  },
  "orig_nbformat": 4
 },
 "nbformat": 4,
 "nbformat_minor": 2
}
